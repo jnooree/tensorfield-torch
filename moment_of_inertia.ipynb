{
 "cells": [
  {
   "cell_type": "markdown",
   "metadata": {},
   "source": [
    "Tensor Field Networks\n",
    "\n",
    "Implementation of moment of inertia demonstration"
   ]
  },
  {
   "cell_type": "code",
   "execution_count": 1,
   "metadata": {},
   "outputs": [
    {
     "name": "stderr",
     "output_type": "stream",
     "text": [
      "/home/sebastian/miniconda3/lib/python3.6/site-packages/h5py/__init__.py:36: FutureWarning: Conversion of the second argument of issubdtype from `float` to `np.floating` is deprecated. In future, it will be treated as `np.float64 == np.dtype(float).type`.\n",
      "  from ._conv import register_converters as _register_converters\n"
     ]
    }
   ],
   "source": [
    "from math import pi, sqrt\n",
    "import numpy as np\n",
    "import torch\n",
    "import random\n",
    "import tensorfieldnetworks.layers as layers\n",
    "import tensorfieldnetworks.utils as utils\n",
    "from tensorfieldnetworks.utils import EPSILON, FLOAT_TYPE\n",
    "xrange = range"
   ]
  },
  {
   "cell_type": "code",
   "execution_count": 2,
   "metadata": {},
   "outputs": [],
   "source": [
    "num_points = 15\n",
    "\n",
    "# radial basis functions\n",
    "rbf_low = 0.\n",
    "rbf_high = 2.\n",
    "rbf_count = 30\n",
    "rbf_spacing = (rbf_high - rbf_low) / rbf_count\n",
    "centers = torch.Tensor(np.linspace(rbf_low, rbf_high, rbf_count))"
   ]
  },
  {
   "cell_type": "code",
   "execution_count": 3,
   "metadata": {},
   "outputs": [],
   "source": [
    "def matrix_from_0_2(input_0, input_2):\n",
    "    \"\"\"\n",
    "    inputs:\n",
    "    -shape [N] tensor, L=0 feature at each point\n",
    "    -shape [N, 5] tensor, L=2 feature vector at each point\n",
    "    \n",
    "    returns:\n",
    "    -shape [N, 3, 3] tensor, matrix at each point\n",
    "    \"\"\"\n",
    "    d_xy = input_2[:,0]\n",
    "    d_yz = input_2[:,1]\n",
    "    d_z2 = input_2[:,2]   # -x^2 - y^2 + 2*z^2\n",
    "    d_zx = input_2[:,3]\n",
    "    d_x2y2 = input_2[:,4] # x^2 - y^2\n",
    "    Mxx = - d_z2 / sqrt(3.) + d_x2y2 + input_0\n",
    "    Myy = - d_z2 / sqrt(3.) - d_x2y2 + input_0\n",
    "    Mzz = 2*d_z2 / sqrt(3.) + input_0\n",
    "    \n",
    "    # rows : [N, 3]\n",
    "    row0 = torch.stack([Mxx, d_xy, d_zx], dim=-1)\n",
    "    row1 = torch.stack([d_xy, Myy, d_yz], dim=-1)\n",
    "    row2 = torch.stack([d_zx, d_yz, Mzz], dim=-1)\n",
    "    \n",
    "    # [N, 3, 3]\n",
    "    return torch.stack([row0, row1, row2], dim=-2)"
   ]
  },
  {
   "cell_type": "code",
   "execution_count": 4,
   "metadata": {},
   "outputs": [],
   "source": [
    "def get_inputs(r):\n",
    "    \n",
    "    # rij : [N, N, 3]\n",
    "    rij = utils.difference_matrix(r)\n",
    "\n",
    "    # dij : [N, N]\n",
    "    dij = utils.distance_matrix(r)\n",
    "\n",
    "    # rbf : [N, N, rbf_count]\n",
    "    gamma = 1. / rbf_spacing\n",
    "    rbf = torch.exp(-gamma * (dij.unsqueeze(-1) - centers)**2)\n",
    "    \n",
    "    return rij, dij, rbf"
   ]
  },
  {
   "cell_type": "code",
   "execution_count": 5,
   "metadata": {},
   "outputs": [],
   "source": [
    "class MOIModel(torch.nn.Module):\n",
    "    \n",
    "    def __init__(self, rbf_dimension):\n",
    "        \n",
    "        super().__init__()\n",
    "        self.layer_0 = layers.Filter(0,0, rbf_dimension, nonlin=utils.ssp)\n",
    "        self.layer_2 = layers.Filter(2,2, rbf_dimension, nonlin=utils.ssp)\n",
    "    \n",
    "    def forward(self, masses, rbf, rij):\n",
    "        \n",
    "        out_0 = self.layer_0(masses, rbf, rij).squeeze()\n",
    "        out_2 = self.layer_2(masses, rbf, rij).squeeze()\n",
    "        \n",
    "        return matrix_from_0_2(out_0, out_2)\n",
    "    "
   ]
  },
  {
   "cell_type": "code",
   "execution_count": 7,
   "metadata": {},
   "outputs": [],
   "source": [
    "def random_points_and_masses(num_points=num_points, max_coord=rbf_high/4., min_mass=0.5, max_mass=2.0):\n",
    "    \"\"\"\n",
    "    returns:\n",
    "    -shape [num_points, 3] numpy array of points\n",
    "    -shape [num_points] numpy array of masses\n",
    "    \"\"\"\n",
    "    output_points = []\n",
    "    for point in xrange(num_points):\n",
    "        output_points.append(np.array([random.uniform(-max_coord, max_coord) for _ in range(3)]))\n",
    "    \n",
    "    points = np.array(output_points)\n",
    "    masses = np.random.rand(len(output_points)) * (max_mass - min_mass) + min_mass\n",
    "    return points, masses\n",
    "\n",
    "\n",
    "def moi_tensor(points, masses, index):\n",
    "    \"\"\"\n",
    "    inputs:\n",
    "    -shape [N] tensor, L=0 feature at each point\n",
    "    -shape [N, 5] tensor, L=2 feature vector at each point\n",
    "    \n",
    "    returns:\n",
    "    -shape [N, 3, 3] tensor, matrix at each point\n",
    "    \"\"\"\n",
    "    center = points[index]\n",
    "    moi = np.full((3, 3), 0.)\n",
    "    for point, mass in zip(points, masses):\n",
    "        x, y, z = point - center\n",
    "        Ixx = y**2 + z**2\n",
    "        Iyy = x**2 + z**2\n",
    "        Izz = x**2 + y**2\n",
    "        Ixy = -x*y\n",
    "        Iyz = -y*z\n",
    "        Ixz = -x*z\n",
    "        moi += np.array([[Ixx, Ixy, Ixz], \n",
    "                         [Ixy, Iyy, Iyz],\n",
    "                         [Ixz, Iyz, Izz]]) * mass\n",
    "    return moi"
   ]
  },
  {
   "cell_type": "code",
   "execution_count": 21,
   "metadata": {},
   "outputs": [],
   "source": [
    "def R0_plot(model, x):\n",
    "    gamma = 1. / rbf_spacing\n",
    "    rbf_plot = np.exp(-gamma * (x - centers)**2)\n",
    "    r_layer = model.layer_0.children().__next__().children().__next__()\n",
    "    return r_layer(torch.Tensor(rbf_plot))\n",
    "    \n",
    "def R2_plot(model, x):\n",
    "    gamma = 1. / rbf_spacing\n",
    "    rbf_plot = np.exp(-gamma * (x - centers)**2)\n",
    "    r_layer = model.layer_2.children().__next__().children().__next__()\n",
    "    return r_layer(torch.Tensor(rbf_plot))\n"
   ]
  },
  {
   "cell_type": "code",
   "execution_count": 9,
   "metadata": {},
   "outputs": [],
   "source": [
    "model = MOIModel(rbf_count)"
   ]
  },
  {
   "cell_type": "code",
   "execution_count": 10,
   "metadata": {},
   "outputs": [],
   "source": [
    "import torch.optim as optim\n",
    "\n",
    "criterion = torch.nn.MSELoss()\n",
    "optimizer = optim.Adam(model.parameters(), lr=0.001)"
   ]
  },
  {
   "cell_type": "code",
   "execution_count": 23,
   "metadata": {},
   "outputs": [
    {
     "name": "stdout",
     "output_type": "stream",
     "text": [
      "Step 0: validation loss = 0.001\n",
      "Step 1000: validation loss = 0.004\n",
      "Step 2000: validation loss = 0.002\n",
      "Step 3000: validation loss = 0.000\n",
      "Step 4000: validation loss = 0.009\n",
      "Step 5000: validation loss = 0.000\n",
      "Step 6000: validation loss = 0.000\n",
      "Step 7000: validation loss = 0.000\n",
      "Step 8000: validation loss = 0.000\n",
      "Step 9000: validation loss = 0.001\n",
      "Step 10000: validation loss = 0.000\n"
     ]
    }
   ],
   "source": [
    "max_steps = 10001\n",
    "print_freq = 1000\n",
    "validation_size = 1000\n",
    "\n",
    "x_vals = [index * rbf_high / rbf_count for index in xrange(rbf_count)]\n",
    "\n",
    "\n",
    "\n",
    "# training\n",
    "for step in xrange(max_steps):\n",
    "    shape, rand_masses = random_points_and_masses()\n",
    "    \n",
    "    rand_masses = np.reshape(rand_masses, [-1, 1, 1])\n",
    "    \n",
    "    center_index = 0\n",
    "    # make center point index have zero mass\n",
    "    rand_masses[center_index] = 0.0\n",
    "\n",
    "    truth = moi_tensor(shape, rand_masses, center_index)\n",
    "    \n",
    "    rand_masses = torch.Tensor(rand_masses)\n",
    "    rij, dij, rbf = get_inputs(torch.Tensor(shape))\n",
    "\n",
    "    optimizer.zero_grad()\n",
    "    outputs = model(rand_masses, rbf, rij)[center_index]\n",
    "\n",
    "    loss = criterion(outputs, torch.Tensor(truth))\n",
    "\n",
    "    loss.backward()\n",
    "    optimizer.step()\n",
    "    \n",
    "    if step % print_freq == 0:\n",
    "        loss_sum = 0.\n",
    "        for example in xrange(validation_size):\n",
    "            shape, rand_masses = random_points_and_masses()\n",
    "            rand_masses = np.reshape(rand_masses, [-1, 1, 1])\n",
    "            rand_masses[center_index] = 0.0\n",
    "            truth = moi_tensor(shape, rand_masses, center_index)\n",
    "            rij, dij, rbf = get_inputs(torch.Tensor(shape))\n",
    "            rand_masses = torch.Tensor(rand_masses)\n",
    "            outputs = model(rand_masses, rbf, rij)[center_index]\n",
    "            loss = criterion(outputs, torch.Tensor(truth))\n",
    "            \n",
    "            loss_sum += loss.item()\n",
    "        print(\"Step %d: validation loss = %.3f\" % (step, loss_sum / validation_size))\n",
    "\n",
    "\n",
    "        \n",
    "    if step == max_steps - 1:\n",
    "        y_vals = []\n",
    "        for x_val in x_vals:\n",
    "            y_vals.append(R0_plot(model,  x_val))\n",
    "        F0_y_vals = y_vals\n",
    "        \n",
    "        y_vals = []\n",
    "        for x_val in x_vals:\n",
    "            y_vals.append(R2_plot(model,  x_val))\n",
    "        F2_y_vals = y_vals"
   ]
  },
  {
   "cell_type": "code",
   "execution_count": 24,
   "metadata": {},
   "outputs": [
    {
     "data": {
      "image/png": "[encoded data removed]",
      "text/plain": [
       "<Figure size 432x288 with 1 Axes>"
      ]
     },
     "metadata": {},
     "output_type": "display_data"
    }
   ],
   "source": [
    "# plot radial functions vs analytic solution\n",
    "\n",
    "%matplotlib inline\n",
    "import matplotlib\n",
    "import matplotlib.pyplot as plt\n",
    "fig, ax1 = plt.subplots(1, sharex=True)\n",
    "\n",
    "ax1.plot(x_vals, [2./3. * r_**2 for r_ in x_vals], \"b:\", lw=3, label=\"$2/3 r^2$\")\n",
    "ax1.plot(x_vals, [-r_**2 for r_ in x_vals], \"r:\", lw=3, label=\"$-r^2$\")\n",
    "ax1.plot([np.sqrt(3 * (rbf_high/4)**2), np.sqrt(3 * (rbf_high/4)**2)], [-4,4], '--', \n",
    "         color=\"#000000\", label=\"Maximum distance\")\n",
    "ax1.plot([0.22, 0.22], [-4,4], '--', color=\"#818181\", label=\"Mean minimum distance\")\n",
    "\n",
    "F0_y_vals_reshape = np.reshape(np.array(F0_y_vals), np.array(F0_y_vals).shape[0])\n",
    "ax1.plot(x_vals, F0_y_vals_reshape, 'b-', label=\"F0 radial function, Step {}\".format(step), alpha=0.5)\n",
    "\n",
    "F2_y_vals_reshape = np.reshape(np.array(F2_y_vals), np.array(F2_y_vals).shape[0])\n",
    "ax1.plot(x_vals, F2_y_vals_reshape,'r-', label=\"F2 radial function, Step {}\".format(step), alpha=0.5)\n",
    "    \n",
    "handles, labels = ax1.get_legend_handles_labels()\n",
    "ax1.legend(handles, labels)\n",
    "\n",
    "ax1.set_xlim(0,1)\n",
    "ax1.set_ylim(-1.5,0.75)\n",
    "ax1.set_ylabel(\"Radial function output\")\n",
    "plt.show()"
   ]
  },
  {
   "cell_type": "code",
   "execution_count": null,
   "metadata": {},
   "outputs": [],
   "source": []
  }
 ],
 "metadata": {
  "kernelspec": {
   "display_name": "Python 3",
   "language": "python",
   "name": "python3"
  },
  "language_info": {
   "codemirror_mode": {
    "name": "ipython",
    "version": 3
   },
   "file_extension": ".py",
   "mimetype": "text/x-python",
   "name": "python",
   "nbconvert_exporter": "python",
   "pygments_lexer": "ipython3",
   "version": "3.6.5"
  }
 },
 "nbformat": 4,
 "nbformat_minor": 2
}
