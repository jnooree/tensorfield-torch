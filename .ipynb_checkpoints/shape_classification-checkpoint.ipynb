{
 "cells": [
  {
   "cell_type": "markdown",
   "metadata": {},
   "source": [
    "Tensor Field Networks\n",
    "\n",
    "Implementation of shape classification demonstration"
   ]
  },
  {
   "cell_type": "code",
   "execution_count": 1,
   "metadata": {},
   "outputs": [],
   "source": [
    "%load_ext autoreload\n",
    "%autoreload 2"
   ]
  },
  {
   "cell_type": "code",
   "execution_count": 2,
   "metadata": {},
   "outputs": [],
   "source": [
    "%matplotlib inline\n",
    "\n",
    "import matplotlib\n",
    "import numpy as np\n",
    "import matplotlib.pyplot as plt\n",
    "import matplotlib.animation as anim\n",
    "import torch \n",
    "import random\n",
    "from math import pi, sqrt\n",
    "import tensorfieldnetworks.layers as layers\n",
    "import tensorfieldnetworks.utils as utils\n",
    "from tensorfieldnetworks.utils import FLOAT_TYPE\n",
    "\n",
    "tetris = [[(0, 0, 0), (0, 0, 1), (1, 0, 0), (1, 1, 0)],  # chiral_shape_1\n",
    "          [(0, 0, 0), (0, 0, 1), (1, 0, 0), (1, -1, 0)], # chiral_shape_2\n",
    "          [(0, 0, 0), (1, 0, 0), (0, 1, 0), (1, 1, 0)],  # square\n",
    "          [(0, 0, 0), (0, 0, 1), (0, 0, 2), (0, 0, 3)],  # line\n",
    "          [(0, 0, 0), (0, 0, 1), (0, 1, 0), (1, 0, 0)],  # corner\n",
    "          [(0, 0, 0), (0, 0, 1), (0, 0, 2), (0, 1, 0)],  # T\n",
    "          [(0, 0, 0), (0, 0, 1), (0, 0, 2), (0, 1, 1)],  # zigzag\n",
    "          [(0, 0, 0), (1, 0, 0), (1, 1, 0), (2, 1, 0)]]  # L\n",
    "\n",
    "dataset = [np.array(points_) for points_ in tetris]\n",
    "num_classes = len(dataset)"
   ]
  },
  {
   "cell_type": "code",
   "execution_count": 3,
   "metadata": {},
   "outputs": [],
   "source": [
    "# radial basis functions\n",
    "rbf_low = 0.0\n",
    "rbf_high = 3.5\n",
    "rbf_count = 4\n",
    "rbf_spacing = (rbf_high - rbf_low) / rbf_count\n",
    "centers = torch.Tensor(np.linspace(rbf_low, rbf_high, rbf_count))"
   ]
  },
  {
   "cell_type": "code",
   "execution_count": 4,
   "metadata": {},
   "outputs": [],
   "source": [
    "def get_inputs(r):\n",
    "    \n",
    "    # rij : [N, N, 3]\n",
    "    rij = utils.difference_matrix(r)\n",
    "\n",
    "    # dij : [N, N]\n",
    "    dij = utils.distance_matrix(r)\n",
    "\n",
    "    # rbf : [N, N, rbf_count]\n",
    "    gamma = 1. / rbf_spacing\n",
    "    rbf = torch.exp(-gamma * (dij.unsqueeze(-1) - centers)**2)\n",
    "    \n",
    "    return rij, dij, rbf"
   ]
  },
  {
   "cell_type": "code",
   "execution_count": 5,
   "metadata": {},
   "outputs": [],
   "source": [
    "class Readout(torch.nn.Module):\n",
    "    \n",
    "    def __init__(self, input_dims, num_classes):\n",
    "        super(Readout, self).__init__()\n",
    "        \n",
    "        self.lin = torch.nn.Linear(input_dims, num_classes,)\n",
    "        self.input_dims = input_dims\n",
    "        self.num_classes = num_classes\n",
    "        \n",
    "    def forward(self, inputs):\n",
    "        inputs = torch.mean(inputs.squeeze(),dim=0)\n",
    "#         print(inputs)\n",
    "        inputs = self.lin.forward(inputs).unsqueeze(0)\n",
    "        return inputs\n",
    "        \n",
    "        \n",
    "class TetrisNetwork(torch.nn.Module):\n",
    "    \n",
    "    def __init__(self, rbf_dim = rbf_count, num_classes = num_classes):\n",
    "        super(TetrisNetwork, self).__init__()\n",
    "        self.layer_dims = [1, 4, 4, 4]\n",
    "#         self.layer_dims = [1,4]\n",
    "        self.num_layers = len(self.layer_dims) - 1  \n",
    "        self.rbf_dim = rbf_dim\n",
    "        self.embed = layers.SelfInteractionLayer(input_dim = 1, output_dim = 1, bias = False)\n",
    "    \n",
    "        self.layers = []\n",
    "        for layer, (layer_dim_out, layer_dim_in) in enumerate(zip(self.layer_dims[1:], self.layer_dims[:-1])):\n",
    "            self.layers.append(layers.Convolution(rbf_dim, layer_dim_in))\n",
    "            self.layers.append(layers.Concatenation())\n",
    "            self.layers.append(layers.SelfInteraction(layer_dim_in, layer_dim_out))\n",
    "            self.layers.append(layers.NonLinearity(layer_dim_out))\n",
    "        self.layers = torch.nn.ModuleList(self.layers)\n",
    "        self.ones = torch.ones(4,1,1)\n",
    "        self.readout = Readout(self.layer_dims[-1], num_classes)\n",
    "        \n",
    "    def forward(self, rbf, rij):\n",
    "    \n",
    "        embed = self.embed(self.ones)       \n",
    "        input_tensor_list = {0: [embed]}\n",
    "        for il, layer in enumerate(self.layers[::4]):\n",
    "            input_tensor_list = self.layers[4*il](input_tensor_list, rbf, rij) #Convolution\n",
    "#             if il == 1:\n",
    "#                 print(input_tensor_list[0][0])\n",
    "#                 print(input_tensor_list[0][1])\n",
    "            input_tensor_list = self.layers[4*il+1](input_tensor_list) # Concatenation\n",
    "#             if il == 0:\n",
    "#                 print(input_tensor_list[1][0])\n",
    "            input_tensor_list = self.layers[4*il+2](input_tensor_list) # Self interaction\n",
    "#             if il == 2:\n",
    "#                 print(input_tensor_list[0][0])\n",
    "            input_tensor_list = self.layers[4*il+3](input_tensor_list) # Nonlinearity\n",
    "#             if il == 1:\n",
    "#                 print(input_tensor_list[0][0])\n",
    "        return self.readout(input_tensor_list[0][0])"
   ]
  },
  {
   "cell_type": "code",
   "execution_count": 6,
   "metadata": {},
   "outputs": [],
   "source": [
    "tetris_tensor = torch.Tensor(tetris)\n",
    "rbf_list = []\n",
    "rij_list = []\n",
    "for t in tetris_tensor:\n",
    "    rbf_list.append(get_inputs(t)[2])\n",
    "    rij_list.append(get_inputs(t)[0])\n",
    "\n",
    "labels = torch.LongTensor(np.arange(len(tetris_tensor))).view(-1,1)"
   ]
  },
  {
   "cell_type": "code",
   "execution_count": 31,
   "metadata": {},
   "outputs": [],
   "source": [
    "model = TetrisNetwork()\n",
    "\n"
   ]
  },
  {
   "cell_type": "code",
   "execution_count": 32,
   "metadata": {},
   "outputs": [
    {
     "name": "stdout",
     "output_type": "stream",
     "text": [
      "tensor([[ 0.2138,  0.0872, -0.0868,  0.3635, -0.1086, -0.0016, -0.2710,  0.3246]],\n",
      "       grad_fn=<UnsqueezeBackward0>)\n"
     ]
    }
   ],
   "source": [
    "i = 0\n",
    "rij, rbf = rij_list[i], rbf_list[i]\n",
    "outputs = model(rbf, rij)\n",
    "print(outputs)"
   ]
  },
  {
   "cell_type": "code",
   "execution_count": null,
   "metadata": {},
   "outputs": [],
   "source": []
  },
  {
   "cell_type": "code",
   "execution_count": 33,
   "metadata": {},
   "outputs": [],
   "source": [
    "import torch.optim as optim\n",
    "\n",
    "criterion = torch.nn.CrossEntropyLoss()\n",
    "optimizer = optim.Adam(model.parameters(), lr=0.001)\n"
   ]
  },
  {
   "cell_type": "code",
   "execution_count": 34,
   "metadata": {},
   "outputs": [],
   "source": [
    "# %timeit model(rbf, rij)\n",
    "\n",
    "# loss = criterion(model(rbf,rij),labels[0])\n",
    "\n",
    "# import time\n",
    "\n",
    "# start = time.time()\n",
    "# loss.backward()\n",
    "# end = time.time()\n",
    "# print(end-start)"
   ]
  },
  {
   "cell_type": "code",
   "execution_count": 35,
   "metadata": {},
   "outputs": [
    {
     "name": "stdout",
     "output_type": "stream",
     "text": [
      "2.111\n",
      "1.290\n",
      "0.978\n",
      "0.496\n",
      "0.338\n",
      "0.273\n",
      "0.237\n",
      "0.195\n",
      "0.123\n",
      "0.034\n",
      "0.017\n",
      "0.012\n",
      "0.006\n",
      "0.004\n",
      "0.002\n",
      "0.001\n",
      "0.001\n",
      "0.001\n",
      "0.000\n",
      "0.000\n",
      "0.000\n",
      "Finished Training\n"
     ]
    }
   ],
   "source": [
    "for epoch in range(2001):  # loop over the dataset multiple times\n",
    "# for epoch in range(100):  # loop over the dataset multiple times\n",
    "    running_loss = 0.0\n",
    "    order = np.arange(len(tetris_tensor))\n",
    "#     np.random.shuffle(order)\n",
    "    for i in order:\n",
    "        label = labels[i]\n",
    "        rij, rbf = rij_list[i], rbf_list[i]\n",
    "        # zero the parameter gradients\n",
    "        optimizer.zero_grad()\n",
    "        outputs = model(rbf, rij)\n",
    "        loss = criterion(outputs, label)\n",
    "   \n",
    "        loss.backward()\n",
    "        optimizer.step()\n",
    "\n",
    "        running_loss += loss.item()\n",
    "    \n",
    "    if epoch%100 == 0:\n",
    "        print('{:3.3f}'.format(running_loss/len(tetris_tensor)))\n",
    "print('Finished Training')"
   ]
  },
  {
   "cell_type": "code",
   "execution_count": 21,
   "metadata": {},
   "outputs": [
    {
     "name": "stdout",
     "output_type": "stream",
     "text": [
      "Test accuracy: 0.875000\n"
     ]
    }
   ],
   "source": [
    "rng = np.random.RandomState()\n",
    "test_set_size = 25\n",
    "predictions = [list() for i in range(len(dataset))]\n",
    "\n",
    "correct_predictions = 0\n",
    "total_predictions = 0\n",
    "for i in range(test_set_size):\n",
    "    for label, shape in enumerate(dataset):\n",
    "        rotation = utils.random_rotation_matrix(rng)\n",
    "        rotated_shape = np.dot(shape, rotation)\n",
    "        translation = np.expand_dims(np.random.uniform(low=-3., high=3., size=(3)), axis=0)\n",
    "        translated_shape = rotated_shape + translation\n",
    "        rij, dij, rbf = get_inputs(torch.Tensor(translated_shape))\n",
    "        \n",
    "        outputs = model(rbf, rij)\n",
    "        output_label = torch.argmax(outputs)\n",
    "        total_predictions += 1\n",
    "        if output_label == label:\n",
    "            correct_predictions += 1\n",
    "#         else:\n",
    "#             print(output_label)\n",
    "#             print(label)\n",
    "print('Test accuracy: %f' % (float(correct_predictions) / total_predictions))"
   ]
  },
  {
   "cell_type": "code",
   "execution_count": null,
   "metadata": {},
   "outputs": [],
   "source": []
  }
 ],
 "metadata": {
  "kernelspec": {
   "display_name": "Python 3",
   "language": "python",
   "name": "python3"
  },
  "language_info": {
   "codemirror_mode": {
    "name": "ipython",
    "version": 3
   },
   "file_extension": ".py",
   "mimetype": "text/x-python",
   "name": "python",
   "nbconvert_exporter": "python",
   "pygments_lexer": "ipython3",
   "version": "3.6.7"
  }
 },
 "nbformat": 4,
 "nbformat_minor": 2
}
