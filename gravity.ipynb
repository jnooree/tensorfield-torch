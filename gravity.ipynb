{
 "cells": [
  {
   "cell_type": "markdown",
   "metadata": {},
   "source": [
    "Tensor Field Networks\n",
    "\n",
    "Implementation of Newtonian gravity demonstration"
   ]
  },
  {
   "cell_type": "code",
   "execution_count": 3,
   "metadata": {},
   "outputs": [],
   "source": [
    "%load_ext autoreload\n",
    "%autoreload 2"
   ]
  },
  {
   "cell_type": "code",
   "execution_count": 76,
   "metadata": {},
   "outputs": [],
   "source": [
    "%matplotlib inline\n",
    "\n",
    "import random\n",
    "from math import sqrt\n",
    "import torch\n",
    "import matplotlib\n",
    "import numpy as np\n",
    "import matplotlib.pyplot as plt\n",
    "from tensorfieldnetworks import utils, layers\n",
    "from tensorfieldnetworks.utils import  FLOAT_TYPE\n",
    "EPSILON = 1e-8\n",
    "xrange = range"
   ]
  },
  {
   "cell_type": "code",
   "execution_count": 77,
   "metadata": {},
   "outputs": [],
   "source": [
    "# radial basis functions\n",
    "rbf_low = 0.\n",
    "rbf_high = 2.\n",
    "rbf_count = 30\n",
    "rbf_spacing = (rbf_high - rbf_low) / rbf_count\n",
    "centers = torch.Tensor(np.linspace(rbf_low, rbf_high, rbf_count))"
   ]
  },
  {
   "cell_type": "code",
   "execution_count": 78,
   "metadata": {},
   "outputs": [],
   "source": [
    "def get_inputs(r):\n",
    "    \n",
    "    # rij : [N, N, 3]\n",
    "    rij = utils.difference_matrix(r)\n",
    "\n",
    "    # dij : [N, N]\n",
    "    dij = utils.distance_matrix(r)\n",
    "\n",
    "    # rbf : [N, N, rbf_count]\n",
    "    gamma = 1. / rbf_spacing\n",
    "    rbf = torch.exp(-gamma * (dij.unsqueeze(-1) - centers)**2)\n",
    "    \n",
    "    return rij, dij, rbf"
   ]
  },
  {
   "cell_type": "code",
   "execution_count": 86,
   "metadata": {},
   "outputs": [],
   "source": [
    "model = layers.Filter(1,1, rbf_count, nonlin=utils.ssp)"
   ]
  },
  {
   "cell_type": "code",
   "execution_count": 87,
   "metadata": {},
   "outputs": [],
   "source": [
    "import torch.optim as optim\n",
    "\n",
    "criterion = torch.nn.MSELoss()\n",
    "optimizer = optim.Adam(model.parameters(), lr=0.001)"
   ]
  },
  {
   "cell_type": "code",
   "execution_count": 88,
   "metadata": {},
   "outputs": [],
   "source": [
    "def R_plot(layer, x):\n",
    "    gamma = 1. / rbf_spacing\n",
    "    rbf_plot = np.exp(-gamma * (x - centers)**2)\n",
    "    return layer(torch.Tensor(rbf_plot))\n",
    "\n"
   ]
  },
  {
   "cell_type": "code",
   "execution_count": 89,
   "metadata": {},
   "outputs": [],
   "source": [
    "def accelerations(points, masses=None):\n",
    "    \"\"\"\n",
    "    inputs:\n",
    "    -points: a list of 3-tuples of point coordinates\n",
    "    -masses: a list (of equal length N) of masses\n",
    "    \n",
    "    returns: \n",
    "    -shape [N, 3] numpy array of accelerations under Newtonian gravity\n",
    "    \"\"\"\n",
    "    accels = []\n",
    "    if masses is None:\n",
    "        masses = [1.0 for _ in range(len(points))]\n",
    "    for i, ri_ in enumerate(points):\n",
    "        accel_vec = np.array((0., 0., 0.))\n",
    "        for j, rj_ in enumerate(points):\n",
    "            rij_ = ri_ - rj_\n",
    "            dij_ = np.linalg.norm(rij_)\n",
    "            if (ri_ != rj_).any():\n",
    "                accel_update = -rij_ / (np.power(dij_, 3) + EPSILON) * masses[j]\n",
    "                accel_vec += accel_update\n",
    "        accels.append(accel_vec)\n",
    "    assert len(accels) == len(points)\n",
    "    return np.array(accels)\n",
    "\n",
    "\n",
    "def random_points_and_masses(max_points=10, min_mass=0.5, max_mass=2.0, \n",
    "                             max_coord=rbf_high, min_separation=0.5):\n",
    "    \"\"\"\n",
    "    returns:\n",
    "    -shape [N, 3] numpy array of points, where N is between 2 and max_points\n",
    "    -shape [N] numpy array of masses\n",
    "    \"\"\"\n",
    "    num_points = random.randint(2, max_points)\n",
    "    candidate_points = []\n",
    "    for point in xrange(num_points):\n",
    "        candidate_points.append(\n",
    "            np.array([random.uniform(-max_coord, max_coord) for _ in range(3)]))\n",
    "    \n",
    "    # remove points that are closer than min_separation\n",
    "    output_points = []\n",
    "    for point in candidate_points:\n",
    "        include_point = True\n",
    "        for previous_point in output_points:\n",
    "            if np.linalg.norm(point - previous_point) < min_separation:\n",
    "                include_point = False\n",
    "        if include_point:\n",
    "            output_points.append(point)\n",
    "    \n",
    "    points_ = np.array(output_points)\n",
    "    masses_ = np.random.rand(len(output_points)) * (max_mass - min_mass) + min_mass\n",
    "    return points_, masses_"
   ]
  },
  {
   "cell_type": "code",
   "execution_count": 90,
   "metadata": {},
   "outputs": [
    {
     "name": "stdout",
     "output_type": "stream",
     "text": [
      "0\n",
      "Step 0: validation loss = 5.150\n",
      "100\n",
      "200\n",
      "300\n",
      "400\n",
      "500\n",
      "600\n",
      "700\n",
      "800\n",
      "900\n",
      "1000\n",
      "Step 1000: validation loss = 0.032\n"
     ]
    }
   ],
   "source": [
    "max_steps = 1001\n",
    "validation_size = 1000\n",
    "print_freq = 1000\n",
    "\n",
    "F1_y_vals = []\n",
    "x_vals = [index * rbf_high / rbf_count for index in range(rbf_count + 1)]\n",
    "\n",
    "# training\n",
    "min_separation = 0.5\n",
    "for step in range(max_steps):\n",
    "    if step%100 == 0 :\n",
    "        print(step)\n",
    "    rand_points, rand_masses = random_points_and_masses(max_points=10, \n",
    "                                                        min_separation=min_separation)\n",
    "    rand_masses_m = np.reshape(rand_masses, [len(rand_masses), 1, 1])\n",
    "    \n",
    "    accel = np.expand_dims(accelerations(rand_points, rand_masses), axis=-2)\n",
    "    \n",
    "    masses = torch.Tensor(rand_masses_m)\n",
    "    rij, dij, rbf = get_inputs(torch.Tensor(rand_points))\n",
    "    optimizer.zero_grad()\n",
    "    outputs = model(masses, rbf, rij)\n",
    "\n",
    "    loss = criterion(outputs, torch.Tensor(accel))\n",
    "\n",
    "    loss.backward()\n",
    "    optimizer.step()\n",
    "\n",
    "\n",
    "    # print performance on different random point set every print_freq steps\n",
    "    if step % print_freq == 0:\n",
    "        loss_sum = 0.\n",
    "        for _ in xrange(validation_size):\n",
    "            validation_points, validation_masses = random_points_and_masses(max_points=50,\n",
    "                                                                            min_separation=min_separation)\n",
    "            validation_masses_m = np.reshape(validation_masses, [len(validation_masses), 1, 1])\n",
    "                \n",
    "            validation_accel = np.expand_dims(accelerations(validation_points, validation_masses), axis=-2)\n",
    "    \n",
    "            validation_masses = torch.Tensor(validation_masses_m)\n",
    "            val_rij, val_dij, val_rbf = get_inputs(torch.Tensor(validation_points))\n",
    "            outputs = model(validation_masses, val_rbf, val_rij)\n",
    "\n",
    "            validation_loss = criterion(outputs, torch.Tensor(validation_accel))\n",
    "            loss_sum += validation_loss\n",
    "        print(\"Step %d: validation loss = %.3f\" % (step, loss_sum / validation_size))\n",
    "\n",
    "        # for plotting radial function\n",
    "        r_layer = model.children().__next__().children().__next__()\n",
    "        y_vals = []\n",
    "        for x_val in x_vals:\n",
    "            y_vals.append(R_plot(r_layer,  x_val))\n",
    "        F1_y_vals.append((step, y_vals))"
   ]
  },
  {
   "cell_type": "code",
   "execution_count": 91,
   "metadata": {},
   "outputs": [
    {
     "data": {
      "image/png": "[encoded data removed]",
      "text/plain": [
       "<Figure size 360x180 with 1 Axes>"
      ]
     },
     "metadata": {
      "needs_background": "light"
     },
     "output_type": "display_data"
    }
   ],
   "source": [
    "# plot radial function and compare with -1/r^2\n",
    "\n",
    "radial_fig = plt.figure(figsize=(5,2.5))\n",
    "ax = radial_fig.add_subplot(1,1,1)\n",
    "\n",
    "min_index_cutoff = int((1 / sqrt(40.) - rbf_low) / rbf_spacing)\n",
    "ax.plot(x_vals[min_index_cutoff:], [-1 / r_**2 for r_ in x_vals[min_index_cutoff:]], \"r:\", lw=3, label=\"$-1/r^2$\")\n",
    "\n",
    "for step, y_vals in F1_y_vals[1:]:\n",
    "    line, = ax.plot(x_vals, y_vals, 'r', alpha=0.5, label=\"Step {}\".format(step))\n",
    "    line.set_ydata(y_vals)\n",
    "\n",
    "ax.plot([min_separation, min_separation], [10,-50], 'k--', label=\"Minimum distance of points\")\n",
    "ax.set_ylabel(\"Output of learned radial function.\")\n",
    "ax.set_xlabel(\"Radial distance\")\n",
    "ax.set_xlim(0., 2.0)\n",
    "ax.set_ylim(-10, 1.)\n",
    "handles, labels = ax.get_legend_handles_labels()\n",
    "ax.legend(handles, labels)\n",
    "radial_fig.canvas.draw()"
   ]
  },
  {
   "cell_type": "code",
   "execution_count": null,
   "metadata": {},
   "outputs": [],
   "source": []
  }
 ],
 "metadata": {
  "kernelspec": {
   "display_name": "Python 3",
   "language": "python",
   "name": "python3"
  },
  "language_info": {
   "codemirror_mode": {
    "name": "ipython",
    "version": 3
   },
   "file_extension": ".py",
   "mimetype": "text/x-python",
   "name": "python",
   "nbconvert_exporter": "python",
   "pygments_lexer": "ipython3",
   "version": "3.6.5"
  }
 },
 "nbformat": 4,
 "nbformat_minor": 2
}
